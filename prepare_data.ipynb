{
 "cells": [
  {
   "cell_type": "markdown",
   "id": "d78acc47",
   "metadata": {},
   "source": [
    "# Prepare Data"
   ]
  },
  {
   "cell_type": "markdown",
   "id": "1f19db52",
   "metadata": {},
   "source": [
    "### Load Data"
   ]
  },
  {
   "cell_type": "code",
   "execution_count": 1,
   "id": "70764062",
   "metadata": {},
   "outputs": [
    {
     "data": {
      "text/plain": [
       "((29353, 9), (29353, 46))"
      ]
     },
     "execution_count": 1,
     "metadata": {},
     "output_type": "execute_result"
    }
   ],
   "source": [
    "import numpy as np\n",
    "import pandas as pd\n",
    "\n",
    "from gbd_tool.gbd_api import GBD\n",
    "\n",
    "# Handle custom error codes\n",
    "def convert_value(x: str) -> float:\n",
    "    if x is None or x == \"empty\" or x == \"failed\" or x == \"memout\" or x == \"unverified\":\n",
    "        return np.nan\n",
    "    elif x == \"timeout\":\n",
    "        return np.inf\n",
    "    else:\n",
    "        try:\n",
    "            return float(x)\n",
    "        except ValueError as e:\n",
    "            print(x)\n",
    "            raise e\n",
    "\n",
    "# Meta-data dataframe\n",
    "with GBD([\"../al-for-sat-solver-benchmarking-data/gbd-data/meta.db\"]) as gbd:\n",
    "    features = gbd.get_features()\n",
    "    features.remove(\"hash\")\n",
    "    meta_df = pd.DataFrame.from_records(\n",
    "        gbd.query_search(\"\", resolve=features),\n",
    "        columns=gbd.get_features())\n",
    "\n",
    "# Dataframe with all base features\n",
    "with GBD([\n",
    "    \"../al-for-sat-solver-benchmarking-data/gbd-data/meta.db\",\n",
    "    \"../al-for-sat-solver-benchmarking-data/gbd-data/base.db\"\n",
    "]) as gbd:\n",
    "    features = gbd.get_features()\n",
    "    for meta_feat in gbd.get_features(dbname=\"meta_db\"):\n",
    "        features.remove(meta_feat)\n",
    "    features_with_hash = features.copy()\n",
    "    features_with_hash.insert(0, \"hash\")\n",
    "    base_features_df = pd.DataFrame.from_records(\n",
    "        gbd.query_search(\"\", resolve=features),\n",
    "        columns=features_with_hash)\n",
    "    \n",
    "# Coerce into correct datatype and set index\n",
    "for col_name in base_features_df.columns:\n",
    "    if col_name == \"hash\":\n",
    "        base_features_df[col_name] = base_features_df[col_name].astype(\"string\")\n",
    "    else:\n",
    "        base_features_df[col_name] = base_features_df[col_name].map(convert_value)   \n",
    "base_features_df.set_index(\"hash\", inplace=True, drop=True)\n",
    "meta_df.set_index(\"hash\", inplace=True, drop=True)\n",
    "\n",
    "# Only use instances with all feature values present\n",
    "nan_feature_rows = np.any(np.isnan(base_features_df.replace([np.inf, -np.inf], np.nan)), axis=1)\n",
    "base_features_df = base_features_df[~nan_feature_rows]\n",
    "meta_df = meta_df.loc[base_features_df.index, :]\n",
    "\n",
    "# Drop zero variance features\n",
    "base_features_df.drop(base_features_df.columns[base_features_df.std() == 0], axis=1, inplace=True)\n",
    "\n",
    "meta_df.shape, base_features_df.shape"
   ]
  },
  {
   "cell_type": "markdown",
   "id": "61ccd361",
   "metadata": {},
   "source": [
    "### Save data"
   ]
  },
  {
   "cell_type": "code",
   "execution_count": 2,
   "id": "c0509240",
   "metadata": {},
   "outputs": [
    {
     "data": {
      "text/plain": [
       "(True, (29353, 46), (29353, 9))"
      ]
     },
     "execution_count": 2,
     "metadata": {},
     "output_type": "execute_result"
    }
   ],
   "source": [
    "np.all(base_features_df.index == meta_df.index), base_features_df.shape, meta_df.shape"
   ]
  },
  {
   "cell_type": "code",
   "execution_count": 3,
   "id": "671b549f",
   "metadata": {},
   "outputs": [],
   "source": [
    "import pickle\n",
    "\n",
    "with open(\"../al-for-sat-solver-benchmarking-data/pickled-data/meta_df.pkl\", \"wb\") as file:\n",
    "    pickle.dump(meta_df.copy(), file)\n",
    "with open(\"../al-for-sat-solver-benchmarking-data/pickled-data/base_features_df.pkl\", \"wb\") as file:\n",
    "    pickle.dump(base_features_df.copy(), file)"
   ]
  },
  {
   "cell_type": "markdown",
   "id": "3f41d1b0",
   "metadata": {},
   "source": [
    "## Anniversay Data"
   ]
  },
  {
   "cell_type": "code",
   "execution_count": 4,
   "id": "bce3125d",
   "metadata": {},
   "outputs": [
    {
     "data": {
      "text/plain": [
       "(5301, 28)"
      ]
     },
     "execution_count": 4,
     "metadata": {},
     "output_type": "execute_result"
    }
   ],
   "source": [
    "anni_df = pd.read_csv(\"../al-for-sat-solver-benchmarking-data/gbd-data/anni-seq.csv\", index_col=\"hash\")\n",
    "anni_df.drop([\"benchmark\", \"verified-result\", \"claimed-result\"], axis=1, inplace=True)\n",
    "anni_df = anni_df[anni_df.index.isin(meta_df.index)].copy()\n",
    "anni_df = anni_df.replace(10000.0, np.inf).copy()\n",
    "anni_df.shape"
   ]
  },
  {
   "cell_type": "code",
   "execution_count": 5,
   "id": "d56ac618",
   "metadata": {},
   "outputs": [],
   "source": [
    "from sklearn.model_selection import train_test_split\n",
    "\n",
    "# Assign family label other to small families\n",
    "anni_meta_df = meta_df.loc[anni_df.index, \"family\"]\n",
    "all_families = anni_meta_df.unique()\n",
    "small_families_mask = anni_meta_df.value_counts(sort=False) < 10\n",
    "small_families = all_families[small_families_mask]\n",
    "stratifcation_values = np.where(anni_meta_df.isin(small_families), \"other\", anni_meta_df)\n",
    "\n",
    "anni_train_df = train_test_split(\n",
    "    anni_df, test_size=0.1,\n",
    "    stratify=stratifcation_values,\n",
    "    shuffle=True, random_state=42,\n",
    ")[1]"
   ]
  },
  {
   "cell_type": "code",
   "execution_count": 6,
   "id": "03da5730",
   "metadata": {},
   "outputs": [
    {
     "data": {
      "text/plain": [
       "hardware-verification           344\n",
       "planning                        333\n",
       "cryptography                    311\n",
       "bitvector                       214\n",
       "quasigroup-completion           210\n",
       "                               ... \n",
       "karatsuba-multiplication          2\n",
       "maximum-constraint-partition      2\n",
       "circuit-minimization              2\n",
       "glassy-gen                        1\n",
       "ramsey                            1\n",
       "Name: family, Length: 133, dtype: int64"
      ]
     },
     "execution_count": 6,
     "metadata": {},
     "output_type": "execute_result"
    }
   ],
   "source": [
    "# Families in complete anniversary track dataset\n",
    "meta_df.loc[anni_df.index, \"family\"].value_counts()"
   ]
  },
  {
   "cell_type": "code",
   "execution_count": 7,
   "id": "7e40664c",
   "metadata": {},
   "outputs": [
    {
     "data": {
      "text/plain": [
       "hardware-verification    35\n",
       "planning                 33\n",
       "cryptography             31\n",
       "bitvector                22\n",
       "quasigroup-completion    21\n",
       "                         ..\n",
       "sum-of-3-cubes            1\n",
       "core-based-generator      1\n",
       "rubikcube                 1\n",
       "edit-distance             1\n",
       "mutilated-chessboard      1\n",
       "Name: family, Length: 112, dtype: int64"
      ]
     },
     "execution_count": 7,
     "metadata": {},
     "output_type": "execute_result"
    }
   ],
   "source": [
    "# Families in smaller hyper-parameter optimization dataset\n",
    "meta_df.loc[anni_train_df.index, \"family\"].value_counts()"
   ]
  },
  {
   "cell_type": "code",
   "execution_count": 8,
   "id": "6d41d45d",
   "metadata": {},
   "outputs": [],
   "source": [
    "import pickle\n",
    "\n",
    "with open(\"../al-for-sat-solver-benchmarking-data/pickled-data/anni_train_df.pkl\", \"wb\") as file:\n",
    "    pickle.dump(anni_train_df.copy(), file)"
   ]
  },
  {
   "cell_type": "markdown",
   "id": "11f62efd",
   "metadata": {},
   "source": [
    "## Final Anniversary Data"
   ]
  },
  {
   "cell_type": "code",
   "execution_count": 9,
   "id": "40066009",
   "metadata": {},
   "outputs": [
    {
     "data": {
      "text/plain": [
       "(5301, 28)"
      ]
     },
     "execution_count": 9,
     "metadata": {},
     "output_type": "execute_result"
    }
   ],
   "source": [
    "anni_df = pd.read_csv(\"../al-for-sat-solver-benchmarking-data/gbd-data/anni-seq.csv\", index_col=\"hash\")\n",
    "anni_df.drop([\"benchmark\", \"verified-result\", \"claimed-result\"], axis=1, inplace=True)\n",
    "anni_df = anni_df[anni_df.index.isin(base_features_df.index)].copy()\n",
    "anni_df = anni_df.replace(10000.0, np.inf).copy()\n",
    "anni_df.shape"
   ]
  },
  {
   "cell_type": "code",
   "execution_count": 10,
   "id": "a99b0030",
   "metadata": {},
   "outputs": [
    {
     "data": {
      "text/html": [
       "<div>\n",
       "<style scoped>\n",
       "    .dataframe tbody tr th:only-of-type {\n",
       "        vertical-align: middle;\n",
       "    }\n",
       "\n",
       "    .dataframe tbody tr th {\n",
       "        vertical-align: top;\n",
       "    }\n",
       "\n",
       "    .dataframe thead th {\n",
       "        text-align: right;\n",
       "    }\n",
       "</style>\n",
       "<table border=\"1\" class=\"dataframe\">\n",
       "  <thead>\n",
       "    <tr style=\"text-align: right;\">\n",
       "      <th></th>\n",
       "      <th>PAR-2 score</th>\n",
       "    </tr>\n",
       "    <tr>\n",
       "      <th>Algorithm</th>\n",
       "      <th></th>\n",
       "    </tr>\n",
       "  </thead>\n",
       "  <tbody>\n",
       "    <tr>\n",
       "      <th>Kissat_MAB_ESA</th>\n",
       "      <td>2808.131702</td>\n",
       "    </tr>\n",
       "    <tr>\n",
       "      <th>kissat-sc2022-bulky</th>\n",
       "      <td>2812.931160</td>\n",
       "    </tr>\n",
       "    <tr>\n",
       "      <th>ekissat-mab-gb-db</th>\n",
       "      <td>2835.247538</td>\n",
       "    </tr>\n",
       "    <tr>\n",
       "      <th>Kissat_MAB_UCB</th>\n",
       "      <td>2835.594988</td>\n",
       "    </tr>\n",
       "    <tr>\n",
       "      <th>kissat_inc</th>\n",
       "      <td>2836.915263</td>\n",
       "    </tr>\n",
       "    <tr>\n",
       "      <th>ekissat-mab-db-v1</th>\n",
       "      <td>2845.189361</td>\n",
       "    </tr>\n",
       "    <tr>\n",
       "      <th>Kissat_MAB_MOSS</th>\n",
       "      <td>2846.732671</td>\n",
       "    </tr>\n",
       "    <tr>\n",
       "      <th>Kissat_MAB-HyWalk</th>\n",
       "      <td>2857.666290</td>\n",
       "    </tr>\n",
       "    <tr>\n",
       "      <th>kissat-sc2022-light</th>\n",
       "      <td>2869.454962</td>\n",
       "    </tr>\n",
       "    <tr>\n",
       "      <th>kissat-els-v2</th>\n",
       "      <td>2899.695461</td>\n",
       "    </tr>\n",
       "    <tr>\n",
       "      <th>hKis-unsat</th>\n",
       "      <td>2953.593305</td>\n",
       "    </tr>\n",
       "    <tr>\n",
       "      <th>Kissat_adaptive_restart</th>\n",
       "      <td>2967.533663</td>\n",
       "    </tr>\n",
       "    <tr>\n",
       "      <th>SeqFROST-NoExtend</th>\n",
       "      <td>2976.561176</td>\n",
       "    </tr>\n",
       "    <tr>\n",
       "      <th>kissat-els-v1</th>\n",
       "      <td>3014.403540</td>\n",
       "    </tr>\n",
       "    <tr>\n",
       "      <th>Cadical_ESA</th>\n",
       "      <td>3017.733615</td>\n",
       "    </tr>\n",
       "    <tr>\n",
       "      <th>CadicalReorder</th>\n",
       "      <td>3036.825750</td>\n",
       "    </tr>\n",
       "    <tr>\n",
       "      <th>cadical_rel_Scavel</th>\n",
       "      <td>3049.901243</td>\n",
       "    </tr>\n",
       "    <tr>\n",
       "      <th>kissat_relaxed</th>\n",
       "      <td>3080.658743</td>\n",
       "    </tr>\n",
       "    <tr>\n",
       "      <th>CaDiCaL_DVDL_V1</th>\n",
       "      <td>3095.727060</td>\n",
       "    </tr>\n",
       "    <tr>\n",
       "      <th>CaDiCaL_DVDL_V2</th>\n",
       "      <td>3101.124640</td>\n",
       "    </tr>\n",
       "    <tr>\n",
       "      <th>glucose-reboot</th>\n",
       "      <td>3273.946417</td>\n",
       "    </tr>\n",
       "    <tr>\n",
       "      <th>LStech-Maple-HyWalk</th>\n",
       "      <td>3290.896185</td>\n",
       "    </tr>\n",
       "    <tr>\n",
       "      <th>LSTech_Maple</th>\n",
       "      <td>3292.681722</td>\n",
       "    </tr>\n",
       "    <tr>\n",
       "      <th>SLIME SC-2022-beta</th>\n",
       "      <td>3400.721026</td>\n",
       "    </tr>\n",
       "    <tr>\n",
       "      <th>SLIME SC-2022</th>\n",
       "      <td>3412.113031</td>\n",
       "    </tr>\n",
       "    <tr>\n",
       "      <th>hCaD_V1-psids</th>\n",
       "      <td>3436.072494</td>\n",
       "    </tr>\n",
       "    <tr>\n",
       "      <th>MapleLCMDistChrBt-DL-v3</th>\n",
       "      <td>3506.318901</td>\n",
       "    </tr>\n",
       "    <tr>\n",
       "      <th>IsaSAT</th>\n",
       "      <td>4741.502711</td>\n",
       "    </tr>\n",
       "  </tbody>\n",
       "</table>\n",
       "</div>"
      ],
      "text/plain": [
       "                         PAR-2 score\n",
       "Algorithm                           \n",
       "Kissat_MAB_ESA           2808.131702\n",
       "kissat-sc2022-bulky      2812.931160\n",
       "ekissat-mab-gb-db        2835.247538\n",
       "Kissat_MAB_UCB           2835.594988\n",
       "kissat_inc               2836.915263\n",
       "ekissat-mab-db-v1        2845.189361\n",
       "Kissat_MAB_MOSS          2846.732671\n",
       "Kissat_MAB-HyWalk        2857.666290\n",
       "kissat-sc2022-light      2869.454962\n",
       "kissat-els-v2            2899.695461\n",
       "hKis-unsat               2953.593305\n",
       "Kissat_adaptive_restart  2967.533663\n",
       "SeqFROST-NoExtend        2976.561176\n",
       "kissat-els-v1            3014.403540\n",
       "Cadical_ESA              3017.733615\n",
       "CadicalReorder           3036.825750\n",
       "cadical_rel_Scavel       3049.901243\n",
       "kissat_relaxed           3080.658743\n",
       "CaDiCaL_DVDL_V1          3095.727060\n",
       "CaDiCaL_DVDL_V2          3101.124640\n",
       "glucose-reboot           3273.946417\n",
       "LStech-Maple-HyWalk      3290.896185\n",
       "LSTech_Maple             3292.681722\n",
       "SLIME SC-2022-beta       3400.721026\n",
       "SLIME SC-2022            3412.113031\n",
       "hCaD_V1-psids            3436.072494\n",
       "MapleLCMDistChrBt-DL-v3  3506.318901\n",
       "IsaSAT                   4741.502711"
      ]
     },
     "execution_count": 10,
     "metadata": {},
     "output_type": "execute_result"
    }
   ],
   "source": [
    "pd.DataFrame.from_records(list(sorted(zip(\n",
    "    anni_df.columns,\n",
    "    np.mean(anni_df.replace(np.inf, 10000), axis=0)\n",
    "), key=lambda x: x[1])), columns=[\"Algorithm\", \"PAR-2 score\"]).set_index(\"Algorithm\", drop=True)"
   ]
  },
  {
   "cell_type": "code",
   "execution_count": 11,
   "id": "d140abda",
   "metadata": {},
   "outputs": [],
   "source": [
    "with open(\"../al-for-sat-solver-benchmarking-data/pickled-data/anni_final_df.pkl\", \"wb\") as file:\n",
    "    pickle.dump(anni_df.copy(), file)"
   ]
  },
  {
   "cell_type": "code",
   "execution_count": 12,
   "id": "c001658b",
   "metadata": {},
   "outputs": [
    {
     "data": {
      "text/plain": [
       "(5355, 28)"
      ]
     },
     "execution_count": 12,
     "metadata": {},
     "output_type": "execute_result"
    }
   ],
   "source": [
    "import numpy as np\n",
    "import pandas as pd\n",
    "import pickle\n",
    "\n",
    "anni_full_df = pd.read_csv(\n",
    "    \"../al-for-sat-solver-benchmarking-data/gbd-data/anni-seq.csv\", index_col=\"hash\")\n",
    "anni_full_df.drop([\"benchmark\", \"verified-result\", \"claimed-result\"], axis=1, inplace=True)\n",
    "anni_full_df = anni_full_df.replace(10000.0, np.inf).copy()\n",
    "\n",
    "with open(\"../al-for-sat-solver-benchmarking-data/pickled-data/anni_full_df.pkl\", \"wb\") as file:\n",
    "    pickle.dump(anni_full_df.copy(), file)\n",
    "\n",
    "anni_full_df.shape"
   ]
  }
 ],
 "metadata": {
  "kernelspec": {
   "display_name": "venv",
   "language": "python",
   "name": "venv"
  },
  "language_info": {
   "codemirror_mode": {
    "name": "ipython",
    "version": 3
   },
   "file_extension": ".py",
   "mimetype": "text/x-python",
   "name": "python",
   "nbconvert_exporter": "python",
   "pygments_lexer": "ipython3",
   "version": "3.9.12"
  }
 },
 "nbformat": 4,
 "nbformat_minor": 5
}
